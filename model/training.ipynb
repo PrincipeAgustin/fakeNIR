{
 "cells": [
  {
   "cell_type": "code",
   "execution_count": 1,
   "metadata": {},
   "outputs": [],
   "source": [
    "import tensorflow as tf\n",
    "import matplotlib.pyplot as plt\n",
    "import numpy as np\n",
    "import os\n",
    "\n",
    "from time import time\n",
    "from fakeNIR import fakeNIR\n",
    "from utils import load_images, random_jitter, normalize_images"
   ]
  },
  {
   "cell_type": "code",
   "execution_count": 2,
   "metadata": {},
   "outputs": [
    {
     "name": "stdout",
     "output_type": "stream",
     "text": [
      "No GPU found\n"
     ]
    }
   ],
   "source": [
    "# Paths de archivos:\n",
    "GLOBAL_PATH = 'E:\\\\Dev/Git/fakeNIR/model'\n",
    "DATASET_PATH = GLOBAL_PATH + '/deepNIR'\n",
    "\n",
    "# Datos de entrenamiento\n",
    "IN_PATH = DATASET_PATH + '/training/input'\n",
    "OUT_PATH = DATASET_PATH + '/training/output'\n",
    "\n",
    "# Salida de cada epoca\n",
    "GEN_OUT = DATASET_PATH + '/training/gen_out'\n",
    "\n",
    "# Datos de prueba\n",
    "TEST_IN_PATH = DATASET_PATH + '/test/input'\n",
    "TEST_OUT_PATH = DATASET_PATH + '/test/output'\n",
    "\n",
    "# Parametros auxiliares\n",
    "\n",
    "IMG_HEIGHT = 960\n",
    "IMG_WIDTH =  1280\n",
    "\n",
    "BATCH_SIZE = 2\n",
    "\n",
    "IM_LIST = os.listdir(IN_PATH)\n",
    "TEST_IM_LIST = os.listdir(TEST_IN_PATH)\n",
    "\n",
    "tf.config.set_visible_devices([], 'GPU')\n",
    "\n",
    "# if tf.test.gpu_device_name(): # this lies and tells you about all devices\n",
    "if tf.config.experimental.list_logical_devices('GPU'):\n",
    "    print('GPU found')\n",
    "else:\n",
    "    print(\"No GPU found\")"
   ]
  },
  {
   "cell_type": "code",
   "execution_count": 3,
   "metadata": {},
   "outputs": [],
   "source": [
    "model = fakeNIR(batch_size = BATCH_SIZE, work_path=GLOBAL_PATH)"
   ]
  },
  {
   "cell_type": "code",
   "execution_count": 4,
   "metadata": {},
   "outputs": [],
   "source": [
    "def load_image_train(image_file, in_path = IN_PATH, out_path = OUT_PATH):\n",
    "\n",
    "    input_image, real_image = load_images(in_path + '/' + image_file, out_path + '/' + image_file)\n",
    "    input_image, real_image = random_jitter(input_image, real_image)\n",
    "\n",
    "    input_image, real_image = normalize_images(input_image, real_image)\n",
    "\n",
    "    return input_image, real_image\n",
    "\n",
    "def load_image_test(image_file, in_path = TEST_IN_PATH, out_path = TEST_OUT_PATH):\n",
    "    input_image, real_image = load_images(in_path + '/' + image_file, out_path + '/' + image_file)\n",
    "    input_image, real_image = normalize_images(input_image, real_image)\n",
    "\n",
    "    return input_image, real_image"
   ]
  },
  {
   "cell_type": "code",
   "execution_count": 5,
   "metadata": {},
   "outputs": [],
   "source": [
    "# Cargamos el dataset de entrenamiento\n",
    "training_dataset = tf.data.Dataset.from_tensor_slices(IM_LIST)\n",
    "training_dataset = training_dataset.map(load_image_train, num_parallel_calls=tf.data.AUTOTUNE)\n",
    "training_dataset.shuffle(len(training_dataset))\n",
    "training_dataset = training_dataset.batch(BATCH_SIZE)\n",
    "\n",
    "# Cargamos el dataset de pruebas\n",
    "test_dataset = tf.data.Dataset.from_tensor_slices(TEST_IM_LIST)\n",
    "test_dataset = test_dataset.map(load_image_test)\n",
    "test_dataset = test_dataset.batch(BATCH_SIZE)"
   ]
  },
  {
   "cell_type": "code",
   "execution_count": 6,
   "metadata": {},
   "outputs": [
    {
     "name": "stdout",
     "output_type": "stream",
     "text": [
      "Epoch: 0 / 10 - Train: 49 / 645 - Total time: 230.30 s - Segs per step: 4.35 - gen_total_loss: 14.8235 - gen_gan_loss: 6.8472 - gen_l1_loss: 0.0798 - disc_loss: 2.4254\r"
     ]
    },
    {
     "ename": "NotFoundError",
     "evalue": "{{function_node __wrapped__IteratorGetNext_output_types_2_device_/job:localhost/replica:0/task:0/device:CPU:0}} NewRandomAccessFile failed to Create/Open: E:\\Dev/Git/fakeNIR/model/deepNIR/training/input/jai_04-12-14_T1614_pic000130-0100.png : The system cannot find the path specified.\r\n; No such process\n\t [[{{node ReadFile}}]] [Op:IteratorGetNext]",
     "output_type": "error",
     "traceback": [
      "\u001b[1;31m---------------------------------------------------------------------------\u001b[0m",
      "\u001b[1;31mNotFoundError\u001b[0m                             Traceback (most recent call last)",
      "Cell \u001b[1;32mIn [6], line 1\u001b[0m\n\u001b[1;32m----> 1\u001b[0m model\u001b[39m.\u001b[39;49mtrain(training_dataset, \u001b[39m10\u001b[39;49m, size \u001b[39m=\u001b[39;49m \u001b[39mlen\u001b[39;49m(IM_LIST) \u001b[39m/\u001b[39;49m\u001b[39m/\u001b[39;49m \u001b[39m2\u001b[39;49m, test_dataset\u001b[39m=\u001b[39;49mtest_dataset, test_images\u001b[39m=\u001b[39;49m\u001b[39m5\u001b[39;49m, show_images\u001b[39m=\u001b[39;49m\u001b[39mTrue\u001b[39;49;00m)\n",
      "File \u001b[1;32me:\\Dev\\Git\\fakeNIR\\model\\fakeNIR.py:217\u001b[0m, in \u001b[0;36mfakeNIR.train\u001b[1;34m(self, dataset, epochs, epochs_to_save, size, start_epoch, test_dataset, test_images, save_imgs_path, show_images)\u001b[0m\n\u001b[0;32m    214\u001b[0m img \u001b[39m=\u001b[39m \u001b[39m0\u001b[39m\n\u001b[0;32m    215\u001b[0m img_path \u001b[39m=\u001b[39m save_imgs_path\n\u001b[1;32m--> 217\u001b[0m \u001b[39mfor\u001b[39;00m input_im, target_im \u001b[39min\u001b[39;00m dataset\u001b[39m.\u001b[39mtake(size):\n\u001b[0;32m    219\u001b[0m     end \u001b[39m=\u001b[39m \u001b[39m'\u001b[39m\u001b[39m\\r\u001b[39;00m\u001b[39m'\u001b[39m\n\u001b[0;32m    221\u001b[0m     \u001b[39mif\u001b[39;00m img \u001b[39m+\u001b[39m \u001b[39m1\u001b[39m \u001b[39m==\u001b[39m size:\n",
      "File \u001b[1;32m~\\AppData\\Roaming\\Python\\Python39\\site-packages\\tensorflow\\python\\data\\ops\\iterator_ops.py:766\u001b[0m, in \u001b[0;36mOwnedIterator.__next__\u001b[1;34m(self)\u001b[0m\n\u001b[0;32m    764\u001b[0m \u001b[39mdef\u001b[39;00m \u001b[39m__next__\u001b[39m(\u001b[39mself\u001b[39m):\n\u001b[0;32m    765\u001b[0m   \u001b[39mtry\u001b[39;00m:\n\u001b[1;32m--> 766\u001b[0m     \u001b[39mreturn\u001b[39;00m \u001b[39mself\u001b[39;49m\u001b[39m.\u001b[39;49m_next_internal()\n\u001b[0;32m    767\u001b[0m   \u001b[39mexcept\u001b[39;00m errors\u001b[39m.\u001b[39mOutOfRangeError:\n\u001b[0;32m    768\u001b[0m     \u001b[39mraise\u001b[39;00m \u001b[39mStopIteration\u001b[39;00m\n",
      "File \u001b[1;32m~\\AppData\\Roaming\\Python\\Python39\\site-packages\\tensorflow\\python\\data\\ops\\iterator_ops.py:749\u001b[0m, in \u001b[0;36mOwnedIterator._next_internal\u001b[1;34m(self)\u001b[0m\n\u001b[0;32m    746\u001b[0m \u001b[39m# TODO(b/77291417): This runs in sync mode as iterators use an error status\u001b[39;00m\n\u001b[0;32m    747\u001b[0m \u001b[39m# to communicate that there is no more data to iterate over.\u001b[39;00m\n\u001b[0;32m    748\u001b[0m \u001b[39mwith\u001b[39;00m context\u001b[39m.\u001b[39mexecution_mode(context\u001b[39m.\u001b[39mSYNC):\n\u001b[1;32m--> 749\u001b[0m   ret \u001b[39m=\u001b[39m gen_dataset_ops\u001b[39m.\u001b[39;49miterator_get_next(\n\u001b[0;32m    750\u001b[0m       \u001b[39mself\u001b[39;49m\u001b[39m.\u001b[39;49m_iterator_resource,\n\u001b[0;32m    751\u001b[0m       output_types\u001b[39m=\u001b[39;49m\u001b[39mself\u001b[39;49m\u001b[39m.\u001b[39;49m_flat_output_types,\n\u001b[0;32m    752\u001b[0m       output_shapes\u001b[39m=\u001b[39;49m\u001b[39mself\u001b[39;49m\u001b[39m.\u001b[39;49m_flat_output_shapes)\n\u001b[0;32m    754\u001b[0m   \u001b[39mtry\u001b[39;00m:\n\u001b[0;32m    755\u001b[0m     \u001b[39m# Fast path for the case `self._structure` is not a nested structure.\u001b[39;00m\n\u001b[0;32m    756\u001b[0m     \u001b[39mreturn\u001b[39;00m \u001b[39mself\u001b[39m\u001b[39m.\u001b[39m_element_spec\u001b[39m.\u001b[39m_from_compatible_tensor_list(ret)  \u001b[39m# pylint: disable=protected-access\u001b[39;00m\n",
      "File \u001b[1;32m~\\AppData\\Roaming\\Python\\Python39\\site-packages\\tensorflow\\python\\ops\\gen_dataset_ops.py:3016\u001b[0m, in \u001b[0;36miterator_get_next\u001b[1;34m(iterator, output_types, output_shapes, name)\u001b[0m\n\u001b[0;32m   3014\u001b[0m   \u001b[39mreturn\u001b[39;00m _result\n\u001b[0;32m   3015\u001b[0m \u001b[39mexcept\u001b[39;00m _core\u001b[39m.\u001b[39m_NotOkStatusException \u001b[39mas\u001b[39;00m e:\n\u001b[1;32m-> 3016\u001b[0m   _ops\u001b[39m.\u001b[39;49mraise_from_not_ok_status(e, name)\n\u001b[0;32m   3017\u001b[0m \u001b[39mexcept\u001b[39;00m _core\u001b[39m.\u001b[39m_FallbackException:\n\u001b[0;32m   3018\u001b[0m   \u001b[39mpass\u001b[39;00m\n",
      "File \u001b[1;32m~\\AppData\\Roaming\\Python\\Python39\\site-packages\\tensorflow\\python\\framework\\ops.py:7209\u001b[0m, in \u001b[0;36mraise_from_not_ok_status\u001b[1;34m(e, name)\u001b[0m\n\u001b[0;32m   7207\u001b[0m \u001b[39mdef\u001b[39;00m \u001b[39mraise_from_not_ok_status\u001b[39m(e, name):\n\u001b[0;32m   7208\u001b[0m   e\u001b[39m.\u001b[39mmessage \u001b[39m+\u001b[39m\u001b[39m=\u001b[39m (\u001b[39m\"\u001b[39m\u001b[39m name: \u001b[39m\u001b[39m\"\u001b[39m \u001b[39m+\u001b[39m name \u001b[39mif\u001b[39;00m name \u001b[39mis\u001b[39;00m \u001b[39mnot\u001b[39;00m \u001b[39mNone\u001b[39;00m \u001b[39melse\u001b[39;00m \u001b[39m\"\u001b[39m\u001b[39m\"\u001b[39m)\n\u001b[1;32m-> 7209\u001b[0m   \u001b[39mraise\u001b[39;00m core\u001b[39m.\u001b[39m_status_to_exception(e) \u001b[39mfrom\u001b[39;00m \u001b[39mNone\u001b[39m\n",
      "\u001b[1;31mNotFoundError\u001b[0m: {{function_node __wrapped__IteratorGetNext_output_types_2_device_/job:localhost/replica:0/task:0/device:CPU:0}} NewRandomAccessFile failed to Create/Open: E:\\Dev/Git/fakeNIR/model/deepNIR/training/input/jai_04-12-14_T1614_pic000130-0100.png : The system cannot find the path specified.\r\n; No such process\n\t [[{{node ReadFile}}]] [Op:IteratorGetNext]"
     ]
    }
   ],
   "source": [
    "model.train(training_dataset, 10, size = len(IM_LIST) // 2, test_dataset=test_dataset, test_images=5, show_images=True)"
   ]
  }
 ],
 "metadata": {
  "kernelspec": {
   "display_name": "Python 3.9.13 64-bit",
   "language": "python",
   "name": "python3"
  },
  "language_info": {
   "codemirror_mode": {
    "name": "ipython",
    "version": 3
   },
   "file_extension": ".py",
   "mimetype": "text/x-python",
   "name": "python",
   "nbconvert_exporter": "python",
   "pygments_lexer": "ipython3",
   "version": "3.9.13"
  },
  "orig_nbformat": 4,
  "vscode": {
   "interpreter": {
    "hash": "a2f5b48f56e66a0c62f6f44a2e2ec6368881a43799db81cecff670b2dc134053"
   }
  }
 },
 "nbformat": 4,
 "nbformat_minor": 2
}
